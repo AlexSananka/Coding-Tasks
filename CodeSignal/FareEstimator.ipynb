{
 "cells": [
  {
   "cell_type": "markdown",
   "metadata": {},
   "source": [
    "### Task"
   ]
  },
  {
   "cell_type": "markdown",
   "metadata": {},
   "source": [
    "Uber is building a Fare Estimator that can tell you how much your ride will cost before you request it. It works by passing approximated ride distance and ride time through this formula:\n",
    "\n",
    "(Cost per minute) * (ride time) + (Cost per mile) * (ride distance)\n",
    "\n",
    "where Cost per minute and Cost per mile depend on the car type.\n",
    "\n",
    "You are one of the engineers building the Fare Estimator, so knowing cost per minute and cost per mile for each car type, as well as ride distance and ride time, return the fare estimates for all car types."
   ]
  },
  {
   "cell_type": "markdown",
   "metadata": {},
   "source": [
    "### Solution"
   ]
  },
  {
   "cell_type": "code",
   "execution_count": 2,
   "metadata": {},
   "outputs": [],
   "source": [
    "def fareEstimator(ride_time, ride_distance, cost_per_minute, cost_per_mile):\n",
    "    #list to store different car type fares\n",
    "    final_fare = []\n",
    "    #this loops takes in considaration different car types\n",
    "    for i in range(len(cost_per_mile)):\n",
    "        a = cost_per_minute[i] * ride_time  +  cost_per_mile[i] * ride_distance\n",
    "        final_fare.append(a)\n",
    "    return final_fare\n"
   ]
  },
  {
   "cell_type": "code",
   "execution_count": 5,
   "metadata": {},
   "outputs": [],
   "source": [
    "ride_time =  30\n",
    "ride_distance = 7\n",
    "cost_per_minute = [0.2, 0.35, 0.4, 0.45]\n",
    "cost_per_mile =  [1.1, 1.8, 2.3, 3.5]"
   ]
  },
  {
   "cell_type": "code",
   "execution_count": 6,
   "metadata": {},
   "outputs": [
    {
     "data": {
      "text/plain": [
       "[13.700000000000001, 23.1, 28.099999999999998, 38.0]"
      ]
     },
     "execution_count": 6,
     "metadata": {},
     "output_type": "execute_result"
    }
   ],
   "source": [
    "fareEstimator(ride_time, ride_distance, cost_per_minute, cost_per_mile)"
   ]
  },
  {
   "cell_type": "code",
   "execution_count": null,
   "metadata": {},
   "outputs": [],
   "source": []
  }
 ],
 "metadata": {
  "kernelspec": {
   "display_name": "Python 3",
   "language": "python",
   "name": "python3"
  },
  "language_info": {
   "codemirror_mode": {
    "name": "ipython",
    "version": 3
   },
   "file_extension": ".py",
   "mimetype": "text/x-python",
   "name": "python",
   "nbconvert_exporter": "python",
   "pygments_lexer": "ipython3",
   "version": "3.7.3"
  }
 },
 "nbformat": 4,
 "nbformat_minor": 2
}
