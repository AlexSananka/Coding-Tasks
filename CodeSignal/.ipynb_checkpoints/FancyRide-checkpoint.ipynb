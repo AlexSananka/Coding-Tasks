{
 "cells": [
  {
   "cell_type": "markdown",
   "metadata": {},
   "source": [
    "### Task"
   ]
  },
  {
   "cell_type": "markdown",
   "metadata": {},
   "source": [
    "Being a new Uber user, you have $20 off your first ride. You want to make the most out of it and drive in the fanciest car you can afford, without spending any out-of-pocket money. There are 5 options, from the least to the most expensive: \"UberX\", \"UberXL\", \"UberPlus\", \"UberBlack\" and \"UberSUV\".\n",
    "\n",
    "You know the length l of your ride in miles and how much one mile costs for each car. Find the best car you can afford."
   ]
  },
  {
   "cell_type": "markdown",
   "metadata": {},
   "source": [
    "### Solution"
   ]
  },
  {
   "cell_type": "code",
   "execution_count": 1,
   "metadata": {},
   "outputs": [],
   "source": [
    "def fancyRide(l, fares):\n",
    "    price = []\n",
    "    cars = [\"UberX\", \"UberXL\", \"UberPlus\", \"UberBlack\", \"UberSUV\"]\n",
    "    for i in range(len(cars)):\n",
    "        if fares[i]*l <= 20:\n",
    "            price.append(cars[i])\n",
    "    return price[-1]"
   ]
  },
  {
   "cell_type": "code",
   "execution_count": 3,
   "metadata": {},
   "outputs": [
    {
     "data": {
      "text/plain": [
       "'UberXL'"
      ]
     },
     "execution_count": 3,
     "metadata": {},
     "output_type": "execute_result"
    }
   ],
   "source": [
    "l = 30\n",
    "fares = [0.3, 0.5, 0.7, 1, 1.3]\n",
    "fancyRide(l,fares)"
   ]
  }
 ],
 "metadata": {
  "kernelspec": {
   "display_name": "Python 3",
   "language": "python",
   "name": "python3"
  },
  "language_info": {
   "codemirror_mode": {
    "name": "ipython",
    "version": 3
   },
   "file_extension": ".py",
   "mimetype": "text/x-python",
   "name": "python",
   "nbconvert_exporter": "python",
   "pygments_lexer": "ipython3",
   "version": "3.7.3"
  }
 },
 "nbformat": 4,
 "nbformat_minor": 2
}
